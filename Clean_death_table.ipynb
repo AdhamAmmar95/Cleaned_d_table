{
 "cells": [
  {
   "cell_type": "code",
   "execution_count": 31,
   "metadata": {},
   "outputs": [],
   "source": [
    "import pandas as pd\n"
   ]
  },
  {
   "cell_type": "code",
   "execution_count": 32,
   "metadata": {},
   "outputs": [],
   "source": [
    "death_table = pd.read_csv('New_York_City_Leading_Causes_of_Death (4).csv')\n"
   ]
  },
  {
   "cell_type": "code",
   "execution_count": 33,
   "metadata": {},
   "outputs": [
    {
     "name": "stdout",
     "output_type": "stream",
     "text": [
      "<class 'pandas.core.frame.DataFrame'>\n",
      "RangeIndex: 1097 entries, 0 to 1096\n",
      "Data columns (total 7 columns):\n",
      "Year                       1097 non-null object\n",
      "Leading Cause              1095 non-null object\n",
      "Sex                        1094 non-null object\n",
      "Race Ethnicity             1094 non-null object\n",
      "Deaths                     1094 non-null object\n",
      "Death Rate                 1094 non-null object\n",
      "Age Adjusted Death Rate    1094 non-null object\n",
      "dtypes: object(7)\n",
      "memory usage: 60.1+ KB\n"
     ]
    }
   ],
   "source": [
    "death_table.info()\n"
   ]
  },
  {
   "cell_type": "code",
   "execution_count": 34,
   "metadata": {},
   "outputs": [],
   "source": [
    "death_table = death_table.drop([1096,1095,1094],axis=0)"
   ]
  },
  {
   "cell_type": "code",
   "execution_count": 35,
   "metadata": {},
   "outputs": [],
   "source": [
    "death_table['Year'] = pd.to_numeric(death_table['Year'])"
   ]
  },
  {
   "cell_type": "code",
   "execution_count": 36,
   "metadata": {},
   "outputs": [],
   "source": [
    "death_table['Deaths'] = pd.to_numeric(death_table ['Deaths'].replace(\".\",\"\"))\n"
   ]
  },
  {
   "cell_type": "code",
   "execution_count": 37,
   "metadata": {},
   "outputs": [],
   "source": [
    "death_table['Death Rate'] = pd.to_numeric(death_table ['Death Rate'].replace(\".\",\"\"))"
   ]
  },
  {
   "cell_type": "code",
   "execution_count": 38,
   "metadata": {},
   "outputs": [],
   "source": [
    "death_table['Age Adjusted Death Rate'] = pd.to_numeric(death_table ['Age Adjusted Death Rate'].replace(\".\",\"\"))"
   ]
  },
  {
   "cell_type": "code",
   "execution_count": 39,
   "metadata": {},
   "outputs": [
    {
     "name": "stdout",
     "output_type": "stream",
     "text": [
      "<class 'pandas.core.frame.DataFrame'>\n",
      "Int64Index: 1094 entries, 0 to 1093\n",
      "Data columns (total 7 columns):\n",
      "Year                       1094 non-null int64\n",
      "Leading Cause              1094 non-null object\n",
      "Sex                        1094 non-null object\n",
      "Race Ethnicity             1094 non-null object\n",
      "Deaths                     956 non-null float64\n",
      "Death Rate                 708 non-null float64\n",
      "Age Adjusted Death Rate    708 non-null float64\n",
      "dtypes: float64(3), int64(1), object(3)\n",
      "memory usage: 68.4+ KB\n"
     ]
    }
   ],
   "source": [
    "death_table.info()"
   ]
  },
  {
   "cell_type": "code",
   "execution_count": null,
   "metadata": {},
   "outputs": [],
   "source": []
  }
 ],
 "metadata": {
  "kernelspec": {
   "display_name": "Python 3",
   "language": "python",
   "name": "python3"
  },
  "language_info": {
   "codemirror_mode": {
    "name": "ipython",
    "version": 3
   },
   "file_extension": ".py",
   "mimetype": "text/x-python",
   "name": "python",
   "nbconvert_exporter": "python",
   "pygments_lexer": "ipython3",
   "version": "3.7.3"
  }
 },
 "nbformat": 4,
 "nbformat_minor": 2
}
